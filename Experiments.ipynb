{
 "cells": [
  {
   "cell_type": "markdown",
   "metadata": {},
   "source": [
    "# Stoping program on Key Press"
   ]
  },
  {
   "cell_type": "code",
   "execution_count": 1,
   "metadata": {},
   "outputs": [],
   "source": [
    "import cv2\n",
    "img = cv2.imread('img.jpg')\n",
    "cv2.imshow('img',img)\n",
    "k = cv2.waitKey(2)\n",
    "if k == ord('q'):\n",
    "    cv2.destroyAllWindows()"
   ]
  },
  {
   "cell_type": "markdown",
   "metadata": {},
   "source": [
    "# DateTime to String"
   ]
  },
  {
   "cell_type": "code",
   "execution_count": 8,
   "metadata": {},
   "outputs": [
    {
     "name": "stdout",
     "output_type": "stream",
     "text": [
      "video_name2019-09-18 10:42:57.578964\n"
     ]
    }
   ],
   "source": [
    "import datetime\n",
    "current_time = datetime.datetime.now()\n",
    "video_name = 'video_name'+str(current_time)\n",
    "print(video_name)"
   ]
  },
  {
   "cell_type": "markdown",
   "metadata": {},
   "source": [
    "# SQL In Pandas"
   ]
  },
  {
   "cell_type": "code",
   "execution_count": 6,
   "metadata": {},
   "outputs": [
    {
     "name": "stdout",
     "output_type": "stream",
     "text": [
      "    Name\n",
      "0  name1\n",
      "1  name2\n",
      "2  name3\n"
     ]
    }
   ],
   "source": [
    "import pandas as pd\n",
    "import pandasql as ps\n",
    "\n",
    "df = pd.DataFrame([[1,'name1'],\n",
    "                   [2,'name2'],\n",
    "                   [3,'name3']], columns = ['ID','Name'])\n",
    "q = 'SELECT Name FROM df'\n",
    "temp = ps.sqldf(q, locals())\n",
    "print(temp)"
   ]
  },
  {
   "cell_type": "markdown",
   "metadata": {},
   "source": [
    "# Line Number of the exception"
   ]
  },
  {
   "cell_type": "code",
   "execution_count": 15,
   "metadata": {},
   "outputs": [
    {
     "name": "stdout",
     "output_type": "stream",
     "text": [
      "division by zero 5\n"
     ]
    }
   ],
   "source": [
    "import sys\n",
    "try:\n",
    "    a = 5\n",
    "    b = 0\n",
    "    ans = a/b\n",
    "except Exception as e:\n",
    "    print(e,sys.exc_info()[-1].tb_lineno)"
   ]
  },
  {
   "cell_type": "markdown",
   "metadata": {},
   "source": [
    "# Debugging Lane Detection of BLU"
   ]
  },
  {
   "cell_type": "code",
   "execution_count": 10,
   "metadata": {},
   "outputs": [],
   "source": [
    "import cv2\n",
    "import numpy as np\n",
    "for i in range(2,10,2):\n",
    "    frame = cv2.imread('{0}_orignal.jpg'.format(i))\n",
    "    img = frame[-100:,:,:]\n",
    "    imageHsv = cv2.cvtColor(img,cv2.COLOR_BGR2HSV)\n",
    "    mask1 = cv2.inRange(imageHsv[:,:,:],(0,40,0),(10,255,255))\n",
    "    mask2 = cv2.inRange(imageHsv[:,:,:],(160,40,0),(180,255,255))\n",
    "    imgThresh=mask1+mask2\n",
    "    kernel = np.zeros((10,10), np.uint8)\n",
    "    dilate = cv2.dilate(imgThresh, kernel, iterations=5)\n",
    "    cv2.imshow('frame',frame)\n",
    "    cv2.imshow('img', img)\n",
    "    cv2.imshow('dilate',dilate)\n",
    "    cv2.waitKey(0)\n",
    "    cv2.destroyAllWindows()"
   ]
  },
  {
   "cell_type": "markdown",
   "metadata": {},
   "source": [
    "# Speed Increase and Decrease at Run time"
   ]
  },
  {
   "cell_type": "code",
   "execution_count": null,
   "metadata": {},
   "outputs": [],
   "source": [
    "import sys\n",
    "speed = 200\n",
    "while True:\n",
    "    key = sys.stdin.read(1)\n",
    "    if key == 'p':\n",
    "        speed += 5\n",
    "    if key == 'm':\n",
    "        speed -= 5\n",
    "    print('Current Speed',speed)\n",
    "    print('key',key)"
   ]
  },
  {
   "cell_type": "markdown",
   "metadata": {},
   "source": [
    "# Terminal colors"
   ]
  },
  {
   "cell_type": "code",
   "execution_count": null,
   "metadata": {},
   "outputs": [],
   "source": [
    "from termcolor import colored\n",
    "colors = ['red', 'green', 'yellow', 'blue', 'magenta', 'cyan', 'white']\n",
    "for color in colors:\n",
    "    print(colored('viki', color))"
   ]
  },
  {
   "cell_type": "markdown",
   "metadata": {},
   "source": [
    "# Detecting Red Light Using OpenCv"
   ]
  },
  {
   "cell_type": "code",
   "execution_count": null,
   "metadata": {},
   "outputs": [],
   "source": [
    "import cv2\n",
    "import os\n",
    "import numpy as np\n",
    "for i in range(1,16):\n",
    "    img_name = 'img ('+ str(i)+').jpg'\n",
    "    print(img_name)\n",
    "    img_path = os.path.join('traffic_light_images',img_name)\n",
    "    img = cv2.imread(img_path)\n",
    "    print(i,img.shape)\n",
    "    crop_img = img[:240,:,:]\n",
    "    hsv = cv2.cvtColor(crop_img,cv2.COLOR_BGR2HSV)\n",
    "    mask1 = cv2.inRange(hsv,(0,100,100), (10,255,255))\n",
    "    mask2 = cv2.inRange(hsv, (160,100,100), (179,255,255))\n",
    "    mask = mask1+mask2\n",
    "    bitwise = cv2.bitwise_and(crop_img,crop_img,mask = mask)\n",
    "    kernel = np.ones((3,3), np.uint8)\n",
    "    opening = cv2.morphologyEx(bitwise, cv2.MORPH_OPEN, kernel)\n",
    "    dilate = cv2.dilate(opening, kernel , iterations = 3)\n",
    "    red_light = np.argwhere(dilate>1)\n",
    "    if red_light.shape[0] == 0:\n",
    "        red_light_detected = True\n",
    "    else:\n",
    "        red_light_detected = False\n",
    "        \n",
    "    print(red_light_detected.shape[0])\n",
    "    cv2.imshow('img',img)\n",
    "    cv2.imshow('crop_img',crop_img)\n",
    "    cv2.imshow('hsv',hsv)\n",
    "    cv2.imshow('mask',mask)\n",
    "    cv2.imshow('bitwise',bitwise)\n",
    "    cv2.imshow('opening', opening)\n",
    "    cv2.imshow('dilate', dilate)\n",
    "    cv2.waitKey(0)\n",
    "    cv2.destroyAllWindows()"
   ]
  },
  {
   "cell_type": "markdown",
   "metadata": {},
   "source": [
    "# Image Croping"
   ]
  },
  {
   "cell_type": "code",
   "execution_count": null,
   "metadata": {},
   "outputs": [],
   "source": [
    "import cv2\n",
    "img = cv2.imread('86.jpg')\n",
    "print(img.shape)\n",
    "crop_img = img[-100:,150:350]\n",
    "cv2.imshow('img',img)\n",
    "cv2.imshow('crop_img',crop_img)\n",
    "cv2.waitKey(0)\n",
    "cv2.destroyAllWindows()"
   ]
  }
 ],
 "metadata": {
  "kernelspec": {
   "display_name": "Python 3",
   "language": "python",
   "name": "python3"
  },
  "language_info": {
   "codemirror_mode": {
    "name": "ipython",
    "version": 3
   },
   "file_extension": ".py",
   "mimetype": "text/x-python",
   "name": "python",
   "nbconvert_exporter": "python",
   "pygments_lexer": "ipython3",
   "version": "3.7.3"
  }
 },
 "nbformat": 4,
 "nbformat_minor": 2
}
